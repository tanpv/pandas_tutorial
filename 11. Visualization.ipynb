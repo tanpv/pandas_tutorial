{
 "cells": [
  {
   "cell_type": "code",
   "execution_count": 1,
   "metadata": {},
   "outputs": [],
   "source": [
    "import pandas as pd"
   ]
  },
  {
   "cell_type": "code",
   "execution_count": 2,
   "metadata": {},
   "outputs": [
    {
     "data": {
      "text/plain": [
       "Index(['color', 'director_name', 'num_critic_for_reviews', 'duration',\n",
       "       'director_facebook_likes', 'actor_3_facebook_likes', 'actor_2_name',\n",
       "       'actor_1_facebook_likes', 'gross', 'genres', 'actor_1_name',\n",
       "       'movie_title', 'num_voted_users', 'cast_total_facebook_likes',\n",
       "       'actor_3_name', 'facenumber_in_poster', 'plot_keywords',\n",
       "       'movie_imdb_link', 'num_user_for_reviews', 'language', 'country',\n",
       "       'content_rating', 'budget', 'title_year', 'actor_2_facebook_likes',\n",
       "       'imdb_score', 'aspect_ratio', 'movie_facebook_likes'],\n",
       "      dtype='object')"
      ]
     },
     "execution_count": 2,
     "metadata": {},
     "output_type": "execute_result"
    }
   ],
   "source": [
    "df_csv = pd.read_csv('./data/IMDB_Movie.csv')\n",
    "df_csv.columns"
   ]
  },
  {
   "cell_type": "code",
   "execution_count": 9,
   "metadata": {},
   "outputs": [
    {
     "data": {
      "text/plain": [
       "0                         Action|Adventure|Fantasy|Sci-Fi\n",
       "1                                Action|Adventure|Fantasy\n",
       "2                               Action|Adventure|Thriller\n",
       "3                                         Action|Thriller\n",
       "4                                             Documentary\n",
       "5                                 Action|Adventure|Sci-Fi\n",
       "6                                Action|Adventure|Romance\n",
       "7       Adventure|Animation|Comedy|Family|Fantasy|Musi...\n",
       "8                                 Action|Adventure|Sci-Fi\n",
       "9                        Adventure|Family|Fantasy|Mystery\n",
       "10                                Action|Adventure|Sci-Fi\n",
       "11                                Action|Adventure|Sci-Fi\n",
       "12                                       Action|Adventure\n",
       "13                               Action|Adventure|Fantasy\n",
       "14                               Action|Adventure|Western\n",
       "15                        Action|Adventure|Fantasy|Sci-Fi\n",
       "16                        Action|Adventure|Family|Fantasy\n",
       "17                                Action|Adventure|Sci-Fi\n",
       "18                               Action|Adventure|Fantasy\n",
       "19          Action|Adventure|Comedy|Family|Fantasy|Sci-Fi\n",
       "20                                      Adventure|Fantasy\n",
       "21                               Action|Adventure|Fantasy\n",
       "22                         Action|Adventure|Drama|History\n",
       "23                                      Adventure|Fantasy\n",
       "24                               Adventure|Family|Fantasy\n",
       "25                         Action|Adventure|Drama|Romance\n",
       "26                                          Drama|Romance\n",
       "27                                Action|Adventure|Sci-Fi\n",
       "28                       Action|Adventure|Sci-Fi|Thriller\n",
       "29                       Action|Adventure|Sci-Fi|Thriller\n",
       "                              ...                        \n",
       "5013                                         Drama|Family\n",
       "5014                                Action|Crime|Thriller\n",
       "5015                                         Comedy|Drama\n",
       "5016                                 Crime|Drama|Thriller\n",
       "5017                                       Comedy|Romance\n",
       "5018                                                Drama\n",
       "5019                              Horror|Mystery|Thriller\n",
       "5020                                Drama|Horror|Thriller\n",
       "5021                                 Comedy|Drama|Romance\n",
       "5022                                                Drama\n",
       "5023                                              Romance\n",
       "5024                                      Sci-Fi|Thriller\n",
       "5025                                  Comedy|Crime|Horror\n",
       "5026                                  Drama|Music|Romance\n",
       "5027                                                Drama\n",
       "5028                                               Horror\n",
       "5029                        Crime|Horror|Mystery|Thriller\n",
       "5030                                                Drama\n",
       "5031                               Comedy|Horror|Thriller\n",
       "5032                                          Crime|Drama\n",
       "5033                                Drama|Sci-Fi|Thriller\n",
       "5034                                             Thriller\n",
       "5035                  Action|Crime|Drama|Romance|Thriller\n",
       "5036                                          Crime|Drama\n",
       "5037                                         Comedy|Drama\n",
       "5038                                         Comedy|Drama\n",
       "5039                         Crime|Drama|Mystery|Thriller\n",
       "5040                                Drama|Horror|Thriller\n",
       "5041                                 Comedy|Drama|Romance\n",
       "5042                                          Documentary\n",
       "Name: genres, Length: 5043, dtype: object"
      ]
     },
     "execution_count": 9,
     "metadata": {},
     "output_type": "execute_result"
    },
    {
     "data": {
      "image/png": "[encoded data removed]",
      "text/plain": [
       "<Figure size 432x288 with 1 Axes>"
      ]
     },
     "metadata": {
      "needs_background": "light"
     },
     "output_type": "display_data"
    }
   ],
   "source": [
    "# draw histogram for duration\n",
    "df_csv['duration'].plot(kind='hist')\n",
    "df_csv.genres"
   ]
  },
  {
   "cell_type": "code",
   "execution_count": 8,
   "metadata": {},
   "outputs": [
    {
     "data": {
      "text/plain": [
       "0    http://www.imdb.com/title/tt0499549/?ref_=fn_t...\n",
       "1    http://www.imdb.com/title/tt0449088/?ref_=fn_t...\n",
       "2    http://www.imdb.com/title/tt2379713/?ref_=fn_t...\n",
       "3    http://www.imdb.com/title/tt1345836/?ref_=fn_t...\n",
       "4    http://www.imdb.com/title/tt5289954/?ref_=fn_t...\n",
       "Name: movie_imdb_link, dtype: object"
      ]
     },
     "execution_count": 8,
     "metadata": {},
     "output_type": "execute_result"
    }
   ],
   "source": [
    "df_csv.movie_imdb_link.head()"
   ]
  },
  {
   "cell_type": "code",
   "execution_count": null,
   "metadata": {},
   "outputs": [],
   "source": []
  }
 ],
 "metadata": {
  "kernelspec": {
   "display_name": "Python 3",
   "language": "python",
   "name": "python3"
  },
  "language_info": {
   "codemirror_mode": {
    "name": "ipython",
    "version": 3
   },
   "file_extension": ".py",
   "mimetype": "text/x-python",
   "name": "python",
   "nbconvert_exporter": "python",
   "pygments_lexer": "ipython3",
   "version": "3.7.2"
  }
 },
 "nbformat": 4,
 "nbformat_minor": 2
}
