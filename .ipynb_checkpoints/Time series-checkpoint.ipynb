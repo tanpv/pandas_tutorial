{
 "cells": [
  {
   "cell_type": "code",
   "execution_count": 1,
   "metadata": {},
   "outputs": [],
   "source": [
    "# https://coinmarketcap.com/currencies/bitcoin/historical-data/?start=20130428&end=20190702"
   ]
  },
  {
   "cell_type": "code",
   "execution_count": 2,
   "metadata": {},
   "outputs": [],
   "source": [
    "# import pandas\n",
    "import pandas as pd"
   ]
  },
  {
   "cell_type": "code",
   "execution_count": 95,
   "metadata": {},
   "outputs": [
    {
     "data": {
      "text/html": [
       "<div>\n",
       "<style scoped>\n",
       "    .dataframe tbody tr th:only-of-type {\n",
       "        vertical-align: middle;\n",
       "    }\n",
       "\n",
       "    .dataframe tbody tr th {\n",
       "        vertical-align: top;\n",
       "    }\n",
       "\n",
       "    .dataframe thead th {\n",
       "        text-align: right;\n",
       "    }\n",
       "</style>\n",
       "<table border=\"1\" class=\"dataframe\">\n",
       "  <thead>\n",
       "    <tr style=\"text-align: right;\">\n",
       "      <th></th>\n",
       "      <th>Date</th>\n",
       "      <th>Open*</th>\n",
       "      <th>High</th>\n",
       "      <th>Low</th>\n",
       "      <th>Close**</th>\n",
       "      <th>Volume</th>\n",
       "      <th>Market Cap</th>\n",
       "    </tr>\n",
       "  </thead>\n",
       "  <tbody>\n",
       "    <tr>\n",
       "      <th>0</th>\n",
       "      <td>Jul 01, 2019</td>\n",
       "      <td>10796.93</td>\n",
       "      <td>11206.44</td>\n",
       "      <td>10089.31</td>\n",
       "      <td>10583.13</td>\n",
       "      <td>29378589324</td>\n",
       "      <td>188297637574</td>\n",
       "    </tr>\n",
       "    <tr>\n",
       "      <th>1</th>\n",
       "      <td>Jun 30, 2019</td>\n",
       "      <td>11931.99</td>\n",
       "      <td>12178.38</td>\n",
       "      <td>10799.01</td>\n",
       "      <td>10817.16</td>\n",
       "      <td>27256473494</td>\n",
       "      <td>192442065810</td>\n",
       "    </tr>\n",
       "    <tr>\n",
       "      <th>2</th>\n",
       "      <td>Jun 29, 2019</td>\n",
       "      <td>12400.76</td>\n",
       "      <td>12400.91</td>\n",
       "      <td>11508.38</td>\n",
       "      <td>11959.37</td>\n",
       "      <td>29923961128</td>\n",
       "      <td>212739713110</td>\n",
       "    </tr>\n",
       "    <tr>\n",
       "      <th>3</th>\n",
       "      <td>Jun 28, 2019</td>\n",
       "      <td>11162.17</td>\n",
       "      <td>12445.18</td>\n",
       "      <td>10914.49</td>\n",
       "      <td>12407.33</td>\n",
       "      <td>35087757766</td>\n",
       "      <td>220681459666</td>\n",
       "    </tr>\n",
       "    <tr>\n",
       "      <th>4</th>\n",
       "      <td>Jun 27, 2019</td>\n",
       "      <td>13017.12</td>\n",
       "      <td>13311.14</td>\n",
       "      <td>10491.85</td>\n",
       "      <td>11182.81</td>\n",
       "      <td>39977475223</td>\n",
       "      <td>198878940964</td>\n",
       "    </tr>\n",
       "  </tbody>\n",
       "</table>\n",
       "</div>"
      ],
      "text/plain": [
       "           Date     Open*      High       Low   Close**       Volume  \\\n",
       "0  Jul 01, 2019  10796.93  11206.44  10089.31  10583.13  29378589324   \n",
       "1  Jun 30, 2019  11931.99  12178.38  10799.01  10817.16  27256473494   \n",
       "2  Jun 29, 2019  12400.76  12400.91  11508.38  11959.37  29923961128   \n",
       "3  Jun 28, 2019  11162.17  12445.18  10914.49  12407.33  35087757766   \n",
       "4  Jun 27, 2019  13017.12  13311.14  10491.85  11182.81  39977475223   \n",
       "\n",
       "     Market Cap  \n",
       "0  188297637574  \n",
       "1  192442065810  \n",
       "2  212739713110  \n",
       "3  220681459666  \n",
       "4  198878940964  "
      ]
     },
     "execution_count": 95,
     "metadata": {},
     "output_type": "execute_result"
    }
   ],
   "source": [
    "# read history price from html page\n",
    "bc = pd.read_html('https://coinmarketcap.com/currencies/bitcoin/historical-data/?start=20130428&end=20190702')[0]\n",
    "bc.head()"
   ]
  },
  {
   "cell_type": "code",
   "execution_count": 96,
   "metadata": {},
   "outputs": [
    {
     "data": {
      "text/html": [
       "<div>\n",
       "<style scoped>\n",
       "    .dataframe tbody tr th:only-of-type {\n",
       "        vertical-align: middle;\n",
       "    }\n",
       "\n",
       "    .dataframe tbody tr th {\n",
       "        vertical-align: top;\n",
       "    }\n",
       "\n",
       "    .dataframe thead th {\n",
       "        text-align: right;\n",
       "    }\n",
       "</style>\n",
       "<table border=\"1\" class=\"dataframe\">\n",
       "  <thead>\n",
       "    <tr style=\"text-align: right;\">\n",
       "      <th></th>\n",
       "      <th>Open*</th>\n",
       "      <th>High</th>\n",
       "      <th>Low</th>\n",
       "      <th>Close**</th>\n",
       "      <th>Volume</th>\n",
       "      <th>Market Cap</th>\n",
       "    </tr>\n",
       "    <tr>\n",
       "      <th>Date</th>\n",
       "      <th></th>\n",
       "      <th></th>\n",
       "      <th></th>\n",
       "      <th></th>\n",
       "      <th></th>\n",
       "      <th></th>\n",
       "    </tr>\n",
       "  </thead>\n",
       "  <tbody>\n",
       "    <tr>\n",
       "      <th>2019-07-01</th>\n",
       "      <td>10796.93</td>\n",
       "      <td>11206.44</td>\n",
       "      <td>10089.31</td>\n",
       "      <td>10583.13</td>\n",
       "      <td>29378589324</td>\n",
       "      <td>188297637574</td>\n",
       "    </tr>\n",
       "    <tr>\n",
       "      <th>2019-06-30</th>\n",
       "      <td>11931.99</td>\n",
       "      <td>12178.38</td>\n",
       "      <td>10799.01</td>\n",
       "      <td>10817.16</td>\n",
       "      <td>27256473494</td>\n",
       "      <td>192442065810</td>\n",
       "    </tr>\n",
       "    <tr>\n",
       "      <th>2019-06-29</th>\n",
       "      <td>12400.76</td>\n",
       "      <td>12400.91</td>\n",
       "      <td>11508.38</td>\n",
       "      <td>11959.37</td>\n",
       "      <td>29923961128</td>\n",
       "      <td>212739713110</td>\n",
       "    </tr>\n",
       "    <tr>\n",
       "      <th>2019-06-28</th>\n",
       "      <td>11162.17</td>\n",
       "      <td>12445.18</td>\n",
       "      <td>10914.49</td>\n",
       "      <td>12407.33</td>\n",
       "      <td>35087757766</td>\n",
       "      <td>220681459666</td>\n",
       "    </tr>\n",
       "    <tr>\n",
       "      <th>2019-06-27</th>\n",
       "      <td>13017.12</td>\n",
       "      <td>13311.14</td>\n",
       "      <td>10491.85</td>\n",
       "      <td>11182.81</td>\n",
       "      <td>39977475223</td>\n",
       "      <td>198878940964</td>\n",
       "    </tr>\n",
       "  </tbody>\n",
       "</table>\n",
       "</div>"
      ],
      "text/plain": [
       "               Open*      High       Low   Close**       Volume    Market Cap\n",
       "Date                                                                         \n",
       "2019-07-01  10796.93  11206.44  10089.31  10583.13  29378589324  188297637574\n",
       "2019-06-30  11931.99  12178.38  10799.01  10817.16  27256473494  192442065810\n",
       "2019-06-29  12400.76  12400.91  11508.38  11959.37  29923961128  212739713110\n",
       "2019-06-28  11162.17  12445.18  10914.49  12407.33  35087757766  220681459666\n",
       "2019-06-27  13017.12  13311.14  10491.85  11182.81  39977475223  198878940964"
      ]
     },
     "execution_count": 96,
     "metadata": {},
     "output_type": "execute_result"
    }
   ],
   "source": [
    "# convert to datetime data and set index for date time data\n",
    "bc.Date = pd.to_datetime(bc.Date)\n",
    "bc = bc.set_index('Date')\n",
    "bc.head()"
   ]
  },
  {
   "cell_type": "code",
   "execution_count": 122,
   "metadata": {},
   "outputs": [
    {
     "data": {
      "text/plain": [
       "Date\n",
       "2019-06-29    11959.37\n",
       "2019-06-28    12407.33\n",
       "2019-06-27    11182.81\n",
       "2019-06-26    13016.23\n",
       "Name: Close**, dtype: float64"
      ]
     },
     "execution_count": 122,
     "metadata": {},
     "output_type": "execute_result"
    }
   ],
   "source": [
    "# this work, it choose from top to bottom\n",
    "# bc.loc['2019-06-29':'2019-06-26','Close**']\n",
    "# bc.index\n",
    "# bc.head()\n",
    "# bc.dtypes\n",
    "# bc.tail()\n",
    "# bc.shape"
   ]
  },
  {
   "cell_type": "code",
   "execution_count": 98,
   "metadata": {},
   "outputs": [
    {
     "data": {
      "text/plain": [
       "<matplotlib.axes._subplots.AxesSubplot at 0x1db6f5dad30>"
      ]
     },
     "execution_count": 98,
     "metadata": {},
     "output_type": "execute_result"
    },
    {
     "data": {
      "image/png": "[encoded data removed]",
      "text/plain": [
       "<Figure size 432x288 with 1 Axes>"
      ]
     },
     "metadata": {
      "needs_background": "light"
     },
     "output_type": "display_data"
    }
   ],
   "source": [
    "# select one year\n",
    "%matplotlib inline\n",
    "bc.loc['2019','Close**'].plot()"
   ]
  },
  {
   "cell_type": "code",
   "execution_count": 63,
   "metadata": {},
   "outputs": [
    {
     "data": {
      "text/plain": [
       "<matplotlib.axes._subplots.AxesSubplot at 0x1db6dee6b38>"
      ]
     },
     "execution_count": 63,
     "metadata": {},
     "output_type": "execute_result"
    },
    {
     "data": {
      "image/png": "[encoded data removed]",
      "text/plain": [
       "<Figure size 432x288 with 1 Axes>"
      ]
     },
     "metadata": {
      "needs_background": "light"
     },
     "output_type": "display_data"
    }
   ],
   "source": [
    "# select one month\n",
    "bc.loc['2019-6','Close**'].plot()"
   ]
  },
  {
   "cell_type": "code",
   "execution_count": 77,
   "metadata": {},
   "outputs": [
    {
     "data": {
      "text/plain": [
       "Series([], Name: Close**, dtype: float64)"
      ]
     },
     "execution_count": 77,
     "metadata": {},
     "output_type": "execute_result"
    }
   ],
   "source": [
    "# select with slice\n",
    "bc.loc['2019-06-26':'2019-06-27', 'Close**']"
   ]
  },
  {
   "cell_type": "code",
   "execution_count": 22,
   "metadata": {},
   "outputs": [
    {
     "data": {
      "text/plain": [
       "<matplotlib.axes._subplots.AxesSubplot at 0x1db65100668>"
      ]
     },
     "execution_count": 22,
     "metadata": {},
     "output_type": "execute_result"
    },
    {
     "data": {
      "image/png": "[encoded data removed]",
      "text/plain": [
       "<Figure size 432x288 with 1 Axes>"
      ]
     },
     "metadata": {
      "needs_background": "light"
     },
     "output_type": "display_data"
    }
   ],
   "source": [
    "# resample with month\n",
    "bc.resample('M')['Close**'].mean().plot()"
   ]
  },
  {
   "cell_type": "code",
   "execution_count": 23,
   "metadata": {},
   "outputs": [
    {
     "data": {
      "text/plain": [
       "<matplotlib.axes._subplots.AxesSubplot at 0x1db65b3f9b0>"
      ]
     },
     "execution_count": 23,
     "metadata": {},
     "output_type": "execute_result"
    },
    {
     "data": {
      "image/png": "[encoded data removed]",
      "text/plain": [
       "<Figure size 432x288 with 1 Axes>"
      ]
     },
     "metadata": {
      "needs_background": "light"
     },
     "output_type": "display_data"
    }
   ],
   "source": [
    "# resample with year\n",
    "bc.resample('Y').mean()['Close**'].plot()"
   ]
  },
  {
   "cell_type": "code",
   "execution_count": 48,
   "metadata": {},
   "outputs": [
    {
     "data": {
      "text/plain": [
       "<matplotlib.axes._subplots.AxesSubplot at 0x1db6da86160>"
      ]
     },
     "execution_count": 48,
     "metadata": {},
     "output_type": "execute_result"
    },
    {
     "data": {
      "image/png": "[encoded data removed]",
      "text/plain": [
       "<Figure size 432x288 with 1 Axes>"
      ]
     },
     "metadata": {
      "needs_background": "light"
     },
     "output_type": "display_data"
    }
   ],
   "source": [
    "# rolling\n",
    "bc_7day = bc['Close**'].rolling(365, center=True).mean()\n",
    "bc_7day.plot()"
   ]
  }
 ],
 "metadata": {
  "kernelspec": {
   "display_name": "Python 3",
   "language": "python",
   "name": "python3"
  },
  "language_info": {
   "codemirror_mode": {
    "name": "ipython",
    "version": 3
   },
   "file_extension": ".py",
   "mimetype": "text/x-python",
   "name": "python",
   "nbconvert_exporter": "python",
   "pygments_lexer": "ipython3",
   "version": "3.7.1"
  }
 },
 "nbformat": 4,
 "nbformat_minor": 2
}
