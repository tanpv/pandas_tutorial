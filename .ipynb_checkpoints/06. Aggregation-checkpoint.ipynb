{
 "cells": [
  {
   "cell_type": "markdown",
   "metadata": {},
   "source": [
    "\n",
    "Aggregation\tDescription\n",
    "count()\tTotal number of items\n",
    "first(), last()\tFirst and last item\n",
    "mean(), median()\tMean and median\n",
    "min(), max()\tMinimum and maximum\n",
    "std(), var()\tStandard deviation and variance\n",
    "mad()\tMean absolute deviation\n",
    "prod()\tProduct of all items\n",
    "sum()\tSum of all items"
   ]
  },
  {
   "cell_type": "code",
   "execution_count": null,
   "metadata": {},
   "outputs": [],
   "source": []
  }
 ],
 "metadata": {
  "kernelspec": {
   "display_name": "Python 3",
   "language": "python",
   "name": "python3"
  },
  "language_info": {
   "codemirror_mode": {
    "name": "ipython",
    "version": 3
   },
   "file_extension": ".py",
   "mimetype": "text/x-python",
   "name": "python",
   "nbconvert_exporter": "python",
   "pygments_lexer": "ipython3",
   "version": "3.7.2"
  }
 },
 "nbformat": 4,
 "nbformat_minor": 2
}
