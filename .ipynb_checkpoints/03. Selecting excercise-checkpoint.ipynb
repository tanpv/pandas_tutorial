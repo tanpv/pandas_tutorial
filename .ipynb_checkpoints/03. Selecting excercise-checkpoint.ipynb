{
 "cells": [
  {
   "cell_type": "code",
   "execution_count": 1,
   "metadata": {},
   "outputs": [],
   "source": [
    "# import pandas"
   ]
  },
  {
   "cell_type": "code",
   "execution_count": 2,
   "metadata": {},
   "outputs": [],
   "source": [
    "# read csv data"
   ]
  },
  {
   "cell_type": "markdown",
   "metadata": {},
   "source": [
    "# Overview\n",
    "\n",
    "Basically, dataframe selecting is action of select a subset of data inside full data. This action of selection could be:\n",
    "* select a column\n",
    "* select multiple columns\n",
    "* select some rows\n",
    "* select some rows inside some columns\n",
    "\n",
    "Image show up each area of selection"
   ]
  },
  {
   "cell_type": "markdown",
   "metadata": {},
   "source": [
    "# . operator\n",
    "\n",
    "```df.column_name```\n",
    "\n",
    "Each column name could be consider as a dataframe attribute, so each column could be accessed with . operator like a object class access it's attribute"
   ]
  },
  {
   "cell_type": "code",
   "execution_count": 3,
   "metadata": {},
   "outputs": [],
   "source": [
    "# select director_name column with . operator"
   ]
  },
  {
   "cell_type": "markdown",
   "metadata": {},
   "source": [
    "# ```[]``` operator\n",
    "```df[column selector]```\n",
    "column selector could be;\n",
    "    * a column\n",
    "    * list of column use []\n",
    "    * list of column use :\n",
    "    "
   ]
  },
  {
   "cell_type": "code",
   "execution_count": 4,
   "metadata": {},
   "outputs": [],
   "source": [
    "# select 'director_name', 'movie_title' with [] operator"
   ]
  },
  {
   "cell_type": "markdown",
   "metadata": {},
   "source": [
    "# loc operator\n",
    "```df.loc[[select row with row index],[select column with column index]]```\n",
    "when print out a dataframe\n",
    "* the top most row contain dataframe index for columns\n",
    "* the left most column contain dataframe index for rows\n",
    "* selector for row, column could be\n",
    "    * one index\n",
    "    * list of index ```[]```\n",
    "    * use slicing ```:```"
   ]
  },
  {
   "cell_type": "code",
   "execution_count": 5,
   "metadata": {},
   "outputs": [],
   "source": [
    "# select row with lable 0 and column label is 'director_name'"
   ]
  },
  {
   "cell_type": "code",
   "execution_count": 6,
   "metadata": {},
   "outputs": [],
   "source": [
    "# select first 3 rows on 2 columns 'movie_title' and 'director_name'"
   ]
  },
  {
   "cell_type": "markdown",
   "metadata": {},
   "source": [
    "# iloc operator\n",
    "\n",
    "```df.iloc[[select columns with their position], [select rows with their position]]```\n",
    "\n",
    "* imagine each row is assign a number, first row is assigned to 0 and final row is assigned to (total number of rows - 1)\n",
    "* imagine each column is assign a number, first column is assign to 0 and final column is assigned to (total number of columns - 1)\n",
    "* selector could be:\n",
    "    * a number\n",
    "    * a list of number\n",
    "    * slicing with : operator\n",
    "    "
   ]
  },
  {
   "cell_type": "code",
   "execution_count": 7,
   "metadata": {},
   "outputs": [],
   "source": [
    "# select third row on second column"
   ]
  },
  {
   "cell_type": "code",
   "execution_count": 9,
   "metadata": {},
   "outputs": [],
   "source": [
    "# select first and third rows \n",
    "# on first and second columns use slicing"
   ]
  }
 ],
 "metadata": {
  "kernelspec": {
   "display_name": "Python 3",
   "language": "python",
   "name": "python3"
  },
  "language_info": {
   "codemirror_mode": {
    "name": "ipython",
    "version": 3
   },
   "file_extension": ".py",
   "mimetype": "text/x-python",
   "name": "python",
   "nbconvert_exporter": "python",
   "pygments_lexer": "ipython3",
   "version": "3.7.1"
  }
 },
 "nbformat": 4,
 "nbformat_minor": 2
}
