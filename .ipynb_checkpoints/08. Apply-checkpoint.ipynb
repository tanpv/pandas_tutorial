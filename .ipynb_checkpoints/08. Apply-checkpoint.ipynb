{
 "cells": [
  {
   "cell_type": "code",
   "execution_count": 1,
   "metadata": {},
   "outputs": [
    {
     "data": {
      "text/plain": [
       "Index(['color', 'director_name', 'num_critic_for_reviews', 'duration',\n",
       "       'director_facebook_likes', 'actor_3_facebook_likes', 'actor_2_name',\n",
       "       'actor_1_facebook_likes', 'gross', 'genres', 'actor_1_name',\n",
       "       'movie_title', 'num_voted_users', 'cast_total_facebook_likes',\n",
       "       'actor_3_name', 'facenumber_in_poster', 'plot_keywords',\n",
       "       'movie_imdb_link', 'num_user_for_reviews', 'language', 'country',\n",
       "       'content_rating', 'budget', 'title_year', 'actor_2_facebook_likes',\n",
       "       'imdb_score', 'aspect_ratio', 'movie_facebook_likes'],\n",
       "      dtype='object')"
      ]
     },
     "execution_count": 1,
     "metadata": {},
     "output_type": "execute_result"
    }
   ],
   "source": [
    "import pandas as pd\n",
    "df_csv = pd.read_csv('./data/IMDB_Movie.csv')\n",
    "df_csv.columns"
   ]
  },
  {
   "cell_type": "code",
   "execution_count": 8,
   "metadata": {},
   "outputs": [
    {
     "data": {
      "text/plain": [
       "0       2009\n",
       "1       2007\n",
       "2       2015\n",
       "3       2012\n",
       "5       2012\n",
       "6       2007\n",
       "7       2010\n",
       "8       2015\n",
       "9       2009\n",
       "10      2016\n",
       "11      2006\n",
       "12      2008\n",
       "13      2006\n",
       "14      2013\n",
       "15      2013\n",
       "16      2008\n",
       "17      2012\n",
       "18      2011\n",
       "19      2012\n",
       "20      2014\n",
       "21      2012\n",
       "22      2010\n",
       "23      2013\n",
       "24      2007\n",
       "25      2005\n",
       "26      1997\n",
       "27      2016\n",
       "28      2012\n",
       "29      2015\n",
       "30      2012\n",
       "        ... \n",
       "5012    2014\n",
       "5013    2002\n",
       "5014    2009\n",
       "5015    1991\n",
       "5016    2015\n",
       "5017    2013\n",
       "5018    2003\n",
       "5019    2015\n",
       "5020    2011\n",
       "5021    2005\n",
       "5022    2014\n",
       "5023    2009\n",
       "5024    2011\n",
       "5025    1972\n",
       "5026    2004\n",
       "5027    2000\n",
       "5028    2007\n",
       "5029    1997\n",
       "5030    2004\n",
       "5031    2012\n",
       "5032    1995\n",
       "5033    2004\n",
       "5034    2005\n",
       "5035    1992\n",
       "5036    2005\n",
       "5037    2011\n",
       "5038    2013\n",
       "5040    2013\n",
       "5041    2012\n",
       "5042    2004\n",
       "Name: title_year, Length: 4935, dtype: int64"
      ]
     },
     "execution_count": 8,
     "metadata": {},
     "output_type": "execute_result"
    }
   ],
   "source": [
    "# modify title_year column\n",
    "# remove NaN row\n",
    "# convert to int number\n",
    "def cleanup_title_year(title_year):\n",
    "    return int(title_year)\n",
    "    \n",
    "df_csv['title_year'].dropna().apply(lambda x : int(x))"
   ]
  },
  {
   "cell_type": "code",
   "execution_count": null,
   "metadata": {},
   "outputs": [],
   "source": []
  }
 ],
 "metadata": {
  "kernelspec": {
   "display_name": "Python 3",
   "language": "python",
   "name": "python3"
  },
  "language_info": {
   "codemirror_mode": {
    "name": "ipython",
    "version": 3
   },
   "file_extension": ".py",
   "mimetype": "text/x-python",
   "name": "python",
   "nbconvert_exporter": "python",
   "pygments_lexer": "ipython3",
   "version": "3.7.2"
  }
 },
 "nbformat": 4,
 "nbformat_minor": 2
}
