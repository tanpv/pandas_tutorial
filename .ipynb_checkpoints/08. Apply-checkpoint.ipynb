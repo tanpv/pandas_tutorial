{
 "cells": [
  {
   "cell_type": "code",
   "execution_count": 25,
   "metadata": {},
   "outputs": [
    {
     "data": {
      "text/html": [
       "<div>\n",
       "<style scoped>\n",
       "    .dataframe tbody tr th:only-of-type {\n",
       "        vertical-align: middle;\n",
       "    }\n",
       "\n",
       "    .dataframe tbody tr th {\n",
       "        vertical-align: top;\n",
       "    }\n",
       "\n",
       "    .dataframe thead th {\n",
       "        text-align: right;\n",
       "    }\n",
       "</style>\n",
       "<table border=\"1\" class=\"dataframe\">\n",
       "  <thead>\n",
       "    <tr style=\"text-align: right;\">\n",
       "      <th></th>\n",
       "      <th>movie_title</th>\n",
       "      <th>gross</th>\n",
       "      <th>movie_imdb_link</th>\n",
       "    </tr>\n",
       "  </thead>\n",
       "  <tbody>\n",
       "    <tr>\n",
       "      <th>0</th>\n",
       "      <td>Avatar \\t</td>\n",
       "      <td>760505847.0</td>\n",
       "      <td>http://www.imdb.com/title/tt0499549/?ref_=fn_t...</td>\n",
       "    </tr>\n",
       "    <tr>\n",
       "      <th>1</th>\n",
       "      <td>Pirates of the Caribbean: At World's End</td>\n",
       "      <td>309404152.0</td>\n",
       "      <td>http://www.imdb.com/title/tt0449088/?ref_=fn_t...</td>\n",
       "    </tr>\n",
       "    <tr>\n",
       "      <th>2</th>\n",
       "      <td>Spectre</td>\n",
       "      <td>200074175.0</td>\n",
       "      <td>http://www.imdb.com/title/tt2379713/?ref_=fn_t...</td>\n",
       "    </tr>\n",
       "  </tbody>\n",
       "</table>\n",
       "</div>"
      ],
      "text/plain": [
       "                                 movie_title        gross  \\\n",
       "0                                  Avatar \\t  760505847.0   \n",
       "1  Pirates of the Caribbean: At World's End   309404152.0   \n",
       "2                                   Spectre   200074175.0   \n",
       "\n",
       "                                     movie_imdb_link  \n",
       "0  http://www.imdb.com/title/tt0499549/?ref_=fn_t...  \n",
       "1  http://www.imdb.com/title/tt0449088/?ref_=fn_t...  \n",
       "2  http://www.imdb.com/title/tt2379713/?ref_=fn_t...  "
      ]
     },
     "execution_count": 25,
     "metadata": {},
     "output_type": "execute_result"
    }
   ],
   "source": [
    "import pandas as pd\n",
    "df_imdb = pd.read_csv('./data/IMDB_Movie_Apply.csv')\n",
    "df_imdb.head(3)"
   ]
  },
  {
   "cell_type": "code",
   "execution_count": 26,
   "metadata": {},
   "outputs": [
    {
     "data": {
      "text/plain": [
       "Index(['movie_title', 'gross', 'movie_imdb_link'], dtype='object')"
      ]
     },
     "execution_count": 26,
     "metadata": {},
     "output_type": "execute_result"
    }
   ],
   "source": [
    "df_imdb.columns"
   ]
  },
  {
   "cell_type": "code",
   "execution_count": 27,
   "metadata": {},
   "outputs": [
    {
     "data": {
      "text/plain": [
       "0    760505847.0\n",
       "1    309404152.0\n",
       "2    200074175.0\n",
       "Name: gross, dtype: float64"
      ]
     },
     "execution_count": 27,
     "metadata": {},
     "output_type": "execute_result"
    }
   ],
   "source": [
    "df_imdb.gross.head(3)"
   ]
  },
  {
   "cell_type": "code",
   "execution_count": 28,
   "metadata": {},
   "outputs": [
    {
     "data": {
      "text/html": [
       "<div>\n",
       "<style scoped>\n",
       "    .dataframe tbody tr th:only-of-type {\n",
       "        vertical-align: middle;\n",
       "    }\n",
       "\n",
       "    .dataframe tbody tr th {\n",
       "        vertical-align: top;\n",
       "    }\n",
       "\n",
       "    .dataframe thead th {\n",
       "        text-align: right;\n",
       "    }\n",
       "</style>\n",
       "<table border=\"1\" class=\"dataframe\">\n",
       "  <thead>\n",
       "    <tr style=\"text-align: right;\">\n",
       "      <th></th>\n",
       "      <th>movie_title</th>\n",
       "      <th>gross</th>\n",
       "      <th>movie_imdb_link</th>\n",
       "    </tr>\n",
       "  </thead>\n",
       "  <tbody>\n",
       "    <tr>\n",
       "      <th>0</th>\n",
       "      <td>Avatar \\t</td>\n",
       "      <td>760.505847</td>\n",
       "      <td>http://www.imdb.com/title/tt0499549/?ref_=fn_t...</td>\n",
       "    </tr>\n",
       "    <tr>\n",
       "      <th>1</th>\n",
       "      <td>Pirates of the Caribbean: At World's End</td>\n",
       "      <td>309.404152</td>\n",
       "      <td>http://www.imdb.com/title/tt0449088/?ref_=fn_t...</td>\n",
       "    </tr>\n",
       "    <tr>\n",
       "      <th>2</th>\n",
       "      <td>Spectre</td>\n",
       "      <td>200.074175</td>\n",
       "      <td>http://www.imdb.com/title/tt2379713/?ref_=fn_t...</td>\n",
       "    </tr>\n",
       "  </tbody>\n",
       "</table>\n",
       "</div>"
      ],
      "text/plain": [
       "                                 movie_title       gross  \\\n",
       "0                                  Avatar \\t  760.505847   \n",
       "1  Pirates of the Caribbean: At World's End   309.404152   \n",
       "2                                   Spectre   200.074175   \n",
       "\n",
       "                                     movie_imdb_link  \n",
       "0  http://www.imdb.com/title/tt0499549/?ref_=fn_t...  \n",
       "1  http://www.imdb.com/title/tt0449088/?ref_=fn_t...  \n",
       "2  http://www.imdb.com/title/tt2379713/?ref_=fn_t...  "
      ]
     },
     "execution_count": 28,
     "metadata": {},
     "output_type": "execute_result"
    }
   ],
   "source": [
    "# change gross to million unit for easy of read\n",
    "def to_million(x):\n",
    "    return x/1000000\n",
    "df_imdb.gross = df_imdb.gross.apply(to_million)\n",
    "df_imdb.head(3)"
   ]
  },
  {
   "cell_type": "code",
   "execution_count": 29,
   "metadata": {},
   "outputs": [
    {
     "data": {
      "text/plain": [
       "0    http://www.imdb.com/title/tt0499549/?ref_=fn_t...\n",
       "1    http://www.imdb.com/title/tt0449088/?ref_=fn_t...\n",
       "2    http://www.imdb.com/title/tt2379713/?ref_=fn_t...\n",
       "Name: movie_imdb_link, dtype: object"
      ]
     },
     "execution_count": 29,
     "metadata": {},
     "output_type": "execute_result"
    }
   ],
   "source": [
    "# shorten the link\n",
    "df_imdb.movie_imdb_link.head(3)"
   ]
  },
  {
   "cell_type": "code",
   "execution_count": 31,
   "metadata": {},
   "outputs": [
    {
     "data": {
      "text/html": [
       "<div>\n",
       "<style scoped>\n",
       "    .dataframe tbody tr th:only-of-type {\n",
       "        vertical-align: middle;\n",
       "    }\n",
       "\n",
       "    .dataframe tbody tr th {\n",
       "        vertical-align: top;\n",
       "    }\n",
       "\n",
       "    .dataframe thead th {\n",
       "        text-align: right;\n",
       "    }\n",
       "</style>\n",
       "<table border=\"1\" class=\"dataframe\">\n",
       "  <thead>\n",
       "    <tr style=\"text-align: right;\">\n",
       "      <th></th>\n",
       "      <th>movie_title</th>\n",
       "      <th>gross</th>\n",
       "      <th>movie_imdb_link</th>\n",
       "    </tr>\n",
       "  </thead>\n",
       "  <tbody>\n",
       "    <tr>\n",
       "      <th>0</th>\n",
       "      <td>Avatar \\t</td>\n",
       "      <td>760.505847</td>\n",
       "      <td>tt0499549/?ref_=fn_tt_tt_1</td>\n",
       "    </tr>\n",
       "    <tr>\n",
       "      <th>1</th>\n",
       "      <td>Pirates of the Caribbean: At World's End</td>\n",
       "      <td>309.404152</td>\n",
       "      <td>tt0449088/?ref_=fn_tt_tt_1</td>\n",
       "    </tr>\n",
       "    <tr>\n",
       "      <th>2</th>\n",
       "      <td>Spectre</td>\n",
       "      <td>200.074175</td>\n",
       "      <td>tt2379713/?ref_=fn_tt_tt_1</td>\n",
       "    </tr>\n",
       "  </tbody>\n",
       "</table>\n",
       "</div>"
      ],
      "text/plain": [
       "                                 movie_title       gross  \\\n",
       "0                                  Avatar \\t  760.505847   \n",
       "1  Pirates of the Caribbean: At World's End   309.404152   \n",
       "2                                   Spectre   200.074175   \n",
       "\n",
       "              movie_imdb_link  \n",
       "0  tt0499549/?ref_=fn_tt_tt_1  \n",
       "1  tt0449088/?ref_=fn_tt_tt_1  \n",
       "2  tt2379713/?ref_=fn_tt_tt_1  "
      ]
     },
     "execution_count": 31,
     "metadata": {},
     "output_type": "execute_result"
    }
   ],
   "source": [
    "def remove_domain(x):\n",
    "    return x.replace('http://www.imdb.com/title/','')\n",
    "df_imdb.movie_imdb_link = df_imdb.movie_imdb_link.apply(remove_domain)\n",
    "df_imdb.head(3)"
   ]
  }
 ],
 "metadata": {
  "kernelspec": {
   "display_name": "Python 3",
   "language": "python",
   "name": "python3"
  },
  "language_info": {
   "codemirror_mode": {
    "name": "ipython",
    "version": 3
   },
   "file_extension": ".py",
   "mimetype": "text/x-python",
   "name": "python",
   "nbconvert_exporter": "python",
   "pygments_lexer": "ipython3",
   "version": "3.7.1"
  }
 },
 "nbformat": 4,
 "nbformat_minor": 2
}
